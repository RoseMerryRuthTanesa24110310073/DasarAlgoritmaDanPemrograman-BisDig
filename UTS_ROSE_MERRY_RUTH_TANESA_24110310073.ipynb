{
  "nbformat": 4,
  "nbformat_minor": 0,
  "metadata": {
    "colab": {
      "provenance": [],
      "authorship_tag": "ABX9TyPshHBWDNJiNECuNYWjyLl5",
      "include_colab_link": true
    },
    "kernelspec": {
      "name": "python3",
      "display_name": "Python 3"
    },
    "language_info": {
      "name": "python"
    }
  },
  "cells": [
    {
      "cell_type": "markdown",
      "metadata": {
        "id": "view-in-github",
        "colab_type": "text"
      },
      "source": [
        "<a href=\"https://colab.research.google.com/github/RoseMerryRuthTanesa24110310073/DasarAlgoritmaDanPemrograman-BisDig/blob/main/UTS_ROSE_MERRY_RUTH_TANESA_24110310073.ipynb\" target=\"_parent\"><img src=\"https://colab.research.google.com/assets/colab-badge.svg\" alt=\"Open In Colab\"/></a>"
      ]
    },
    {
      "cell_type": "markdown",
      "source": [
        "STUDI KASUS"
      ],
      "metadata": {
        "id": "CLUJ1vW4syqE"
      }
    },
    {
      "cell_type": "code",
      "source": [
        "# Fungsi rekursif menghitung faktorial\n",
        "def hitung_faktorial(n):\n",
        "    if n == 0 or n == 1:\n",
        "        return 1\n",
        "    else:\n",
        "        return n * hitung_faktorial(n - 1)\n",
        "\n",
        "# Input dari user\n",
        "angka = int(input(\"Masukkan angka untuk dihitung faktorialnya: \"))\n",
        "\n",
        "# Validasi input\n",
        "if angka < 0:\n",
        "    print(\"Faktorial tidak bisa dihitung untuk angka negatif.\")\n",
        "else:\n",
        "    hasil = hitung_faktorial(angka)\n",
        "    print(f\"Faktorial dari {angka} adalah {hasil}\")\n"
      ],
      "metadata": {
        "colab": {
          "base_uri": "https://localhost:8080/"
        },
        "id": "MroQnKN4s06Q",
        "outputId": "dec7f8d4-97e4-4a90-b98d-11c6886e47fd"
      },
      "execution_count": null,
      "outputs": [
        {
          "output_type": "stream",
          "name": "stdout",
          "text": [
            "Masukkan angka untuk dihitung faktorialnya: 5\n",
            "Faktorial dari 5 adalah 120\n"
          ]
        }
      ]
    },
    {
      "cell_type": "code",
      "source": [
        "# List untuk menyimpan nilai-nilai siswa\n",
        "nilai_siswa = []\n",
        "\n",
        "# Input nilai untuk 5 siswa\n",
        "for i in range(5):\n",
        "    nilai = float(input(f\"Masukkan nilai siswa ke-{i+1}: \"))\n",
        "    nilai_siswa.append(nilai)\n",
        "\n",
        "# Cari nilai tertinggi dan posisi siswanya\n",
        "nilai_tertinggi = max(nilai_siswa)\n",
        "siswa_tertinggi = nilai_siswa.index(nilai_tertinggi) + 1  # +1 karena index mulai dari 0\n",
        "\n",
        "# Tampilkan hasil\n",
        "print(\"\\n=== Hasil ===\")\n",
        "print(\"Daftar nilai siswa:\", nilai_siswa)\n",
        "print(f\"Nilai tertinggi adalah {nilai_tertinggi}, didapat oleh siswa ke-{siswa_tertinggi}.\")\n"
      ],
      "metadata": {
        "colab": {
          "base_uri": "https://localhost:8080/"
        },
        "id": "y3gh7Viks5av",
        "outputId": "1be6e5ef-66a0-44b9-84ee-3ada6df84f47"
      },
      "execution_count": null,
      "outputs": [
        {
          "output_type": "stream",
          "name": "stdout",
          "text": [
            "Masukkan nilai siswa ke-1: 90\n",
            "Masukkan nilai siswa ke-2: 78\n",
            "Masukkan nilai siswa ke-3: 85\n",
            "Masukkan nilai siswa ke-4: 92\n",
            "Masukkan nilai siswa ke-5: 88\n",
            "\n",
            "=== Hasil ===\n",
            "Daftar nilai siswa: [90.0, 78.0, 85.0, 92.0, 88.0]\n",
            "Nilai tertinggi adalah 92.0, didapat oleh siswa ke-4.\n"
          ]
        }
      ]
    },
    {
      "cell_type": "code",
      "source": [
        "# Input total belanja\n",
        "total_belanja = float(input(\"Masukkan total belanja: Rp \"))\n",
        "\n",
        "# Cek apakah dapat diskon\n",
        "if total_belanja > 500000:\n",
        "    diskon = 0.10 * total_belanja\n",
        "    total_bayar = total_belanja - diskon\n",
        "    print(f\"Selamat! Anda mendapatkan diskon 10% sebesar Rp {diskon:.0f}\")\n",
        "else:\n",
        "    diskon = 0\n",
        "    total_bayar = total_belanja\n",
        "    print(\"Maaf, tidak ada diskon.\")\n",
        "\n",
        "# Tampilkan total yang harus dibayar\n",
        "print(f\"Total yang harus dibayar: Rp {total_bayar:.0f}\")\n"
      ],
      "metadata": {
        "colab": {
          "base_uri": "https://localhost:8080/"
        },
        "id": "sMmOlHNUs5gB",
        "outputId": "a1264908-6fad-4ed8-fdfc-474984e260f5"
      },
      "execution_count": null,
      "outputs": [
        {
          "output_type": "stream",
          "name": "stdout",
          "text": [
            "Masukkan total belanja: Rp 650000\n",
            "Selamat! Anda mendapatkan diskon 10% sebesar Rp 65000\n",
            "Total yang harus dibayar: Rp 585000\n"
          ]
        }
      ]
    },
    {
      "cell_type": "code",
      "source": [
        "# Input harga barang\n",
        "barang1 = float(input(\"Masukkan harga barang 1: Rp \"))\n",
        "barang2 = float(input(\"Masukkan harga barang 2: Rp \"))\n",
        "barang3 = float(input(\"Masukkan harga barang 3: Rp \"))\n",
        "\n",
        "# Hitung total\n",
        "total = barang1 + barang2 + barang3\n",
        "\n",
        "# Tampilkan hasil\n",
        "print(\"Total yang harus dibayar: Rp\", total)\n"
      ],
      "metadata": {
        "id": "bCr3ip3VtRqK",
        "colab": {
          "base_uri": "https://localhost:8080/"
        },
        "outputId": "fe6eea7a-37b7-4512-cca9-76c3b8e1184d"
      },
      "execution_count": 1,
      "outputs": [
        {
          "output_type": "stream",
          "name": "stdout",
          "text": [
            "Masukkan harga barang 1: Rp 100000\n",
            "Masukkan harga barang 2: Rp 150000\n",
            "Masukkan harga barang 3: Rp 50000\n",
            "Total yang harus dibayar: Rp 300000.0\n"
          ]
        }
      ]
    },
    {
      "cell_type": "code",
      "source": [
        "# Input nilai dari 3 mata pelajaran\n",
        "nilai1 = float(input(\"Masukkan nilai pertama: \"))\n",
        "nilai2 = float(input(\"Masukkan nilai kedua: \"))\n",
        "nilai3 = float(input(\"Masukkan nilai ketiga: \"))\n",
        "\n",
        "# Hitung rata-rata\n",
        "rata_rata = (nilai1 + nilai2 + nilai3) / 3\n",
        "\n",
        "# Tampilkan hasil rata-rata\n",
        "print(\"Rata-rata nilai:\", rata_rata)\n",
        "\n",
        "# Cek kelulusan\n",
        "if rata_rata >= 75:\n",
        "    print(\"Status: Lulus 🎉\")\n",
        "else:\n",
        "    print(\"Status: Tidak Lulus 😢\")\n"
      ],
      "metadata": {
        "colab": {
          "base_uri": "https://localhost:8080/"
        },
        "id": "dGVt8enYlrEw",
        "outputId": "18d10dbc-955e-4921-bebd-ef83e718dd2c"
      },
      "execution_count": 2,
      "outputs": [
        {
          "output_type": "stream",
          "name": "stdout",
          "text": [
            "Masukkan nilai pertama: 80\n",
            "Masukkan nilai kedua: 70\n",
            "Masukkan nilai ketiga: 75\n",
            "Rata-rata nilai: 75.0\n",
            "Status: Lulus 🎉\n"
          ]
        }
      ]
    }
  ]
}